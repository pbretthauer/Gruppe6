{
 "cells": [
  {
   "cell_type": "markdown",
   "metadata": {},
   "source": [
    "# Exercice 1: \n",
    "write a function that takes a filename and then all the urls in the file \"urls.txt\" line by line. Remove the `http://www.` parts of each url and write the urls without `http://www.`part in the file \"domains.txt\". The function returns nothing.\n",
    "\n",
    "Examples:\n",
    "\n",
    "`http://www.rakuten.co.jp` should be `rakuten.co.jp`\n",
    "\n",
    "`http://www.craigslist.org` should be `craigslist.org`\n",
    "\n",
    "`http://www.amazon.de` should be `amazon.de`\n"
   ]
  },
  {
   "cell_type": "code",
   "execution_count": 47,
   "metadata": {},
   "outputs": [
    {
     "data": {
      "text/plain": [
       "'youtube.com\\nfacebook.com\\nbaidu.com\\nyahoo.com\\namazon.com\\nwikipedia.org\\nqq.com\\ngoogle.co.in\\ntwitter.com\\nlive.com\\ntaobao.com\\nbing.com\\ninstagram.com\\nweibo.com\\nsina.com.cn\\nlinkedin.com\\nyahoo.co.jp\\nmsn.com\\nvk.com\\ngoogle.de\\nyandex.ru\\nhao123.com\\ngoogle.co.uk\\nreddit.com\\nebay.com\\ngoogle.fr\\nt.co\\ntmall.com\\ngoogle.com.br\\n360.cn\\nsohu.com\\namazon.co.jp\\npinterest.com\\nnetflix.com\\ngoogle.it\\ngoogle.ru\\nmicrosoft.com\\ngoogle.es\\nwordpress.com\\ngmw.cn\\ntumblr.com\\npaypal.com\\nblogspot.com\\nimgur.com\\nstackoverflow.com\\naliexpress.com\\nnaver.com\\nok.ru\\napple.com\\ngithub.com\\nchinadaily.com.cn\\nimdb.com\\ngoogle.co.kr\\nfc2.com\\njd.com\\nblogger.com\\n163.com\\ngoogle.ca\\nwhatsapp.com\\namazon.in\\noffice.com\\ntianya.cn\\ngoogle.co.id\\nyouku.com\\nrakuten.co.jp\\ncraigslist.org\\namazon.de\\nnicovideo.jp\\ngoogle.pl\\nsoso.com\\nbilibili.com\\ndropbox.com\\nxinhuanet.com\\noutbrain.com\\npixnet.net\\nalibaba.com\\nalipay.com\\nmicrosoftonline.com\\nbooking.com\\ngoogleusercontent.com\\ngoogle.com.au\\npopads.net\\ncntv.cn\\nzhihu.com\\namazon.co.uk\\ndiply.com\\ncoccoc.com\\ncnn.com\\nbbc.co.uk\\ntwitch.tv\\nwikia.com\\ngoogle.co.th\\ngo.com\\ngoogle.com.ph\\ndoubleclick.net\\nonet.pl\\ngoogleadservices.com\\naccuweather.com\\ngoogleweblight.com\\nanswers.yahoo.com'"
      ]
     },
     "execution_count": 47,
     "metadata": {},
     "output_type": "execute_result"
    }
   ],
   "source": [
    "myfile = open('urls.txt')\n",
    "myfile.seek(0)\n",
    "new_file = myfile.readlines()\n",
    "str_new_file= ''.join(new_file)\n",
    "#print(str_new_file)\n",
    "#str_new_file.split('http://www.')\n",
    "str_new_file.replace('http://www.','')"
   ]
  },
  {
   "cell_type": "code",
   "execution_count": 48,
   "metadata": {},
   "outputs": [],
   "source": [
    "myfile.close()"
   ]
  },
  {
   "cell_type": "markdown",
   "metadata": {},
   "source": [
    "# Exercice 2: (Hint: Use lists inside a list to write a two dimensional array. Also use a for loop inside a for loop could be helpful) \n",
    "Without using exernal library, create a function which print a matrix `n x n`with `1`on the diagonal, otherwise `0`. The function should take an argument `n`and then print the matrix. \n",
    "\n",
    "Example: \n",
    ". for `n = 3`\n",
    "\n",
    "```python\n",
    "1  0  0\n",
    "0  1  0\n",
    "0  0  1\n",
    "```\n",
    "\n",
    ". for `n = 4`\n",
    "\n",
    "```python\n",
    "1  0  0  0\n",
    "0  1  0  0 \n",
    "0  0  1  0 \n",
    "0  0  0  1\n",
    "```\n",
    "\n",
    "etc...\n",
    "\n"
   ]
  },
  {
   "cell_type": "code",
   "execution_count": 22,
   "metadata": {},
   "outputs": [
    {
     "name": "stdout",
     "output_type": "stream",
     "text": [
      "Please give a number hier:3\n",
      "100\n",
      "010\n",
      "001\n"
     ]
    }
   ],
   "source": [
    "# your code here \n",
    "n = int(input('Please give a number hier:'))\n",
    "for i in range(0,n):\n",
    "    #print('0'*(i),'1' ,'0'*(n-i-1))\n",
    "    matrix = '0'*(i),'1' ,'0'*(n-i-1)\n",
    "    #ls_matrix = list(matrix)\n",
    "    str_matrix = ''.join(matrix)\n",
    "    print(str_matrix)\n",
    "    #print(matrix.split(''))\n",
    "    #i += 1"
   ]
  },
  {
   "cell_type": "code",
   "execution_count": 31,
   "metadata": {
    "scrolled": true
   },
   "outputs": [
    {
     "name": "stdout",
     "output_type": "stream",
     "text": [
      "100\n",
      "010\n",
      "001\n"
     ]
    }
   ],
   "source": [
    "def matrix(n)->list:\n",
    "    for i in range(0,n):\n",
    "        matrix = '0'*(i),'1' ,'0'*(n-i-1)\n",
    "        str_matrix = ''.join(matrix)\n",
    "        print (str_matrix)\n",
    "matrix(3)"
   ]
  },
  {
   "cell_type": "markdown",
   "metadata": {},
   "source": [
    "# Exercice 3: \n",
    "Without using exernal library, compute the sum of two matrix. The sum of two matrix can be done as shown in the [WIKI-PAGE](https://en.wikipedia.org/wiki/Matrix_addition) . The function should be able to sum both `n x n` matrix and `n x m` matrix. \n",
    "Write a function witch takes two matrix and return the (sum) matrix. \n",
    "\n",
    "You can use the function from exercice 2, to print the result :) "
   ]
  },
  {
   "cell_type": "markdown",
   "metadata": {},
   "source": [
    "1 3      0 0     1+0 3+0     1 3                 1 3 2 0 0\n",
    "1 0   +  7 5  =  1+7 0+5  =  8 5                 2 3 1 0 0\n",
    "1 2      2 1     1+2 2+1     3 3                 0 0 0 1 6\n",
    "                                                 0 0 0 0 1\n",
    "matrix1 = [[1,3,2],[2,3,1]]\n",
    "matrix2 = [[1,6],[0,1]]\n",
    "= [[1,3,2,0,0]\n",
    "   [2,3,1,0,0]\n",
    "   [0,0,0,1,6]\n",
    "   [0,0,0,0,1]]"
   ]
  },
  {
   "cell_type": "code",
   "execution_count": 1,
   "metadata": {},
   "outputs": [
    {
     "name": "stdout",
     "output_type": "stream",
     "text": [
      "[1, 3, 0, 0, 0]\n",
      "[1, 0, 0, 0, 0]\n",
      "[5, 5, 0, 0, 0]\n",
      "[3, 5, 0, 0, 0]\n",
      "[0, 0, 1, 0, 3]\n",
      "[0, 0, 5, 5, 5]\n",
      "[0, 0, 1, 2, 1]\n",
      "[0, 0, 1, 6, 2]\n",
      "[0, 0, 2, 5, 1]\n"
     ]
    }
   ],
   "source": [
    "def sum_entrywise(matrix1,matrix2):\n",
    "    if len(matrix1) == len(matrix2):\n",
    "        format_print_1 = []\n",
    "        for j in range(0,len(matrix1)):\n",
    "            a = matrix1[j]\n",
    "            b = matrix2[j]\n",
    "            j += 1\n",
    "            res_ab = []\n",
    "            for i in range(0,len(a)):\n",
    "                c = a[i] + b[i]\n",
    "                d = res_ab.append(c)\n",
    "                format_print_1.append(res_ab)\n",
    "                format_print_same = []\n",
    "                for m in format_print_1:\n",
    "                    if m not in format_print_same:\n",
    "                        format_print_same.append(m)\n",
    "        return format_print_same\n",
    "    else:        \n",
    "        for i in range(0,len(matrix1)):\n",
    "            for a in matrix2:                                  \n",
    "                x_1 = ([0] * len(a))                               \n",
    "                x = list(matrix1[i]) + x_1              \n",
    "            print(x)\n",
    "        for j in range(0,len(matrix2)):\n",
    "            for b in matrix1:                                    \n",
    "                y_1 = ([0] * len(b))                                               \n",
    "                y = y_1 + matrix2[j]  \n",
    "            print(y)\n",
    "            \n",
    "            \n",
    "matrix1 = [[1,3],[1,0],[5,5],[3,5]]\n",
    "matrix2 = [[1,0,3],[5,5,5],[1,2,1],[1,6,2],[2,5,1]]\n",
    "sum_entrywise(matrix1,matrix2)"
   ]
  },
  {
   "cell_type": "code",
   "execution_count": null,
   "metadata": {},
   "outputs": [],
   "source": []
  }
 ],
 "metadata": {
  "kernelspec": {
   "display_name": "Python 3",
   "language": "python",
   "name": "python3"
  },
  "language_info": {
   "codemirror_mode": {
    "name": "ipython",
    "version": 3
   },
   "file_extension": ".py",
   "mimetype": "text/x-python",
   "name": "python",
   "nbconvert_exporter": "python",
   "pygments_lexer": "ipython3",
   "version": "3.8.3"
  }
 },
 "nbformat": 4,
 "nbformat_minor": 4
}
