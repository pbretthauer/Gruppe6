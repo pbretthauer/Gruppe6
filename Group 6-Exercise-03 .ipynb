{
 "cells": [
  {
   "cell_type": "markdown",
   "metadata": {},
   "source": [
    "# Exercice 1\n",
    "\n",
    "Write a function called **string_to_array** to split a string and convert it into an array of words. The function should take one str argument and does not return anything, just print the array of words. \n",
    "\n",
    "For example:\n",
    "\n",
    "```python\n",
    "\"Robin Singh\" should return [\"Robin\", \"Singh\"]\n",
    "\n",
    "\"I love arrays they are my favorite\" should return [\"I\", \"love\", \"arrays\", \"they\", \"are\", \"my\", \"favorite\"]\n",
    "```\n",
    "\n",
    "### check your answer with the following strings \n",
    "\n",
    "`\n",
    "string_to_array(\"Robin Singh\") should print [\"Robin\", \"Singh\"])\n",
    "string_to_array(\"CodeWars\") should print [\"CodeWars\"]\n",
    "string_to_array(\"I love arrays they are my favorite\") should print [\"I\", \"love\", \"arrays\", \"they\", \"are\", \"my\", \"favorite\"]\n",
    "string_to_array(\"1 2 3\") should print [\"1\", \"2\", \"3\"]\n",
    "string_to_array(\"\") should print [\"\"]\n",
    "`"
   ]
  },
  {
   "cell_type": "code",
   "execution_count": 7,
   "metadata": {},
   "outputs": [],
   "source": [
    "# NOTE! \"pass\" is a keyword for an empty function. It tells the compiler that it is not an error if a function is empty\n",
    "def string_to_array(sentence):\n",
    "    #sentence = str\n",
    "    #sentence = input('Give your sentence please:')\n",
    "    user_list = []\n",
    "    for l in sentence.split():\n",
    "        user_list.append(l)\n",
    "    print(user_list)\n"
   ]
  },
  {
   "cell_type": "code",
   "execution_count": 8,
   "metadata": {},
   "outputs": [
    {
     "name": "stdout",
     "output_type": "stream",
     "text": [
      "['I', 'love', 'arrays', 'they', 'are', 'my', 'favorite']\n"
     ]
    }
   ],
   "source": [
    "string_to_array(\"I love arrays they are my favorite\")\n"
   ]
  },
  {
   "cell_type": "markdown",
   "metadata": {},
   "source": [
    "# Exercice 2: \n",
    "\n",
    "Usually when you buy something, you're asked whether your credit card number, phone number or answer to your most secret question is still correct. However, since someone could look over your shoulder, you don't want that shown on your screen. Instead, we mask it.\n",
    "\n",
    "Your task is to write a function called **maskify**, which changes all but the last four characters into '#' and return the value as a string (str).\n",
    "\n",
    "Output example: \n",
    "\"What was the name of your first pet?\"\n",
    "\n",
    "```python \n",
    "maskify(\"Skippy\")                                   == \"##ippy\"\n",
    "maskify(\"Nananananananananananananananana Batman!\") == \"####################################man!\"\n",
    "```\n",
    "\n",
    "### check your answer with the following strings \n",
    "```python \n",
    "maskify(\"4556364607935616\") == \"############5616\"\n",
    "maskify(     \"64607935616\") ==      \"#######5616\"\n",
    "maskify(               \"1\") ==                \"1\"\n",
    "maskify(                \"\") ==                 \"\"\n",
    "```\n",
    "\n"
   ]
  },
  {
   "cell_type": "code",
   "execution_count": 9,
   "metadata": {},
   "outputs": [],
   "source": [
    "def maskify(sentence):\n",
    "    user_input = int(input('Give a number here (2-6):'))\n",
    "    plus = []\n",
    "    #i = 0\n",
    "    for i in range (len(sentence)):\n",
    "        if len(sentence) <= user_input:\n",
    "            return(sentence)\n",
    "        else:\n",
    "            x = - (user_input)\n",
    "            plus.append('#') \n",
    "            if sentence [i] == ' ':\n",
    "                y = sentence.count(' ')\n",
    "                return (sentence).join(plus) * (len(sentence)+x-y) + ''.join (sentence[x:]) \n",
    "            else:\n",
    "                return (sentence)"
   ]
  },
  {
   "cell_type": "code",
   "execution_count": 10,
   "metadata": {},
   "outputs": [
    {
     "name": "stdin",
     "output_type": "stream",
     "text": [
      "Give a number here (2-6): 3\n"
     ]
    },
    {
     "data": {
      "text/plain": [
       "'####975'"
      ]
     },
     "execution_count": 10,
     "metadata": {},
     "output_type": "execute_result"
    }
   ],
   "source": [
    "# test your function here \n",
    "maskify(\"   4578975\")\n"
   ]
  },
  {
   "cell_type": "markdown",
   "metadata": {},
   "source": [
    "# Exercice 3\n",
    "Your task is to create a function that does four basic mathematical operations.\n",
    "\n",
    "The function should take three arguments - \n",
    "\n",
    "operation(string/char), \n",
    "\n",
    "value1(number), \n",
    "\n",
    "value2(number).\n",
    "\n",
    "The function should return result of numbers after applying the chosen operation.\n",
    "\n",
    "Examples\n",
    "```python\n",
    "basic_op('+', 4, 7)         # Output: 11\n",
    "basic_op('-', 15, 18)       # Output: -3\n",
    "basic_op('*', 5, 5)         # Output: 25\n",
    "basic_op('/', 49, 7)        # Output: 7\n",
    "```"
   ]
  },
  {
   "cell_type": "code",
   "execution_count": 11,
   "metadata": {},
   "outputs": [],
   "source": [
    "# your code here \n",
    "def basic_op(sentence:str,number_1:int,number_2:int) -> int:\n",
    "    sum_sentence = number_1 + number_2\n",
    "    minus_sentence = number_1 - number_2\n",
    "    mutiply_sentence = number_1 * number_2\n",
    "    devide_sentence = number_1 / number_2\n",
    "    for c in sentence:\n",
    "        if c == '+':\n",
    "            return(sum_sentence)\n",
    "        elif sentence == '-':\n",
    "            return (minus_sentence)\n",
    "        elif sentence == '*':\n",
    "            return (mutiply_sentence) \n",
    "        else:\n",
    "            return (devide_sentence)   \n"
   ]
  },
  {
   "cell_type": "code",
   "execution_count": 13,
   "metadata": {},
   "outputs": [
    {
     "data": {
      "text/plain": [
       "25"
      ]
     },
     "execution_count": 13,
     "metadata": {},
     "output_type": "execute_result"
    }
   ],
   "source": [
    "#test \n",
    "basic_op('*',5, 5)\n"
   ]
  },
  {
   "cell_type": "markdown",
   "metadata": {},
   "source": [
    "# Exercice 4\n",
    "Who remembers back to their time in the schoolyard, when you would take a flower and tear its petals, saying each of the following phrases each time a petal was torn:\n",
    "\n",
    "`\n",
    "I like you\n",
    "a little\n",
    "a lot\n",
    "passionately\n",
    "madly\n",
    "not at all\n",
    "`\n",
    "\n",
    "When the last petal was torn there were cries of excitement, dreams, surging thoughts and emotions.\n",
    "\n",
    "\n",
    "Your goal is to determine which phrase you would say for a flower of a given number of petals, where **nb_petals > 0**.\n",
    "\n",
    "Examples: \n",
    "\n",
    "```python\n",
    "how_much_i_like_you(7)         # Output: \"I like you\"\n",
    "how_much_i_like_you(2)         # Output: \"a little\"\n",
    "how_much_i_like_you(5)         # Output: \"madly\"\n",
    "how_much_i_like_you(9)         # Output: \"a lot\"\n",
    "```\n",
    "\n"
   ]
  },
  {
   "cell_type": "code",
   "execution_count": 14,
   "metadata": {},
   "outputs": [],
   "source": [
    "# your code here \n",
    "def how_much_i_like_you(nb:int) -> str:\n",
    "    \n",
    "    #for nb in nb_petal:\n",
    "    if nb == 7:\n",
    "        print (\"I like you\")\n",
    "    elif nb == 2:\n",
    "        print (\"I like you a little\")\n",
    "    elif nb == 5:\n",
    "        print (\"I like you madly\")            \n",
    "    elif nb == 9:\n",
    "        print (\"I like you a lot\")\n",
    "    elif nb == 3:               \n",
    "        print (\"I like you passionately\")\n",
    "    elif nb == 8:\n",
    "        print (\"I don't like you at all\")\n",
    "    else:\n",
    "        print(\"I'm not sure\")\n",
    "    "
   ]
  },
  {
   "cell_type": "code",
   "execution_count": 16,
   "metadata": {},
   "outputs": [
    {
     "name": "stdout",
     "output_type": "stream",
     "text": [
      "I like you madly\n"
     ]
    }
   ],
   "source": [
    "# Test \n",
    "how_much_i_like_you(5)\n"
   ]
  },
  {
   "cell_type": "markdown",
   "metadata": {},
   "source": [
    "# Exercice 5 (slicing)\n",
    "You are going to be given an array of integers. Your job is to take that array and find an index N where the sum of the integers to the left of N is equal to the sum of the integers to the right of N. If there is no index that would make this happen, return -1.\n",
    "\n",
    "For example:\n",
    "\n",
    "Let's say you are given the array {1,2,3,4,3,2,1}:\n",
    "Your function will return the index 3, because at the 3rd position of the array, the sum of left side of the index ({1,2,3}) and the sum of the right side of the index ({3,2,1}) both equal 6.\n",
    "\n",
    "Let's look at another one.\n",
    "You are given the array {1,100,50,-51,1,1}:\n",
    "Your function will return the index 1, because at the 1st position of the array, the sum of left side of the index ({1}) and the sum of the right side of the index ({50,-51,1,1}) both equal 1.\n",
    "\n",
    "Last one:\n",
    "You are given the array {20,10,-80,10,10,15,35}\n",
    "At index 0 the left side is {}\n",
    "The right side is {10,-80,10,10,15,35}\n",
    "They both are equal to 0 when added. (Empty arrays are equal to 0 in this problem)\n",
    "Index 0 is the place where the left side and right side are equal.\n",
    "\n",
    "Note: Please remember that in python the index of an array starts at 0.\n",
    "\n",
    "Input:\n",
    "An integer array of length 0 < arr < 1000. The numbers in the array can be any integer positive or negative.\n",
    "\n",
    "Output:\n",
    "The lowest index N where the side to the left of N is equal to the side to the right of N. If you do not find an index that fits these rules, then you will return -1.\n",
    "\n",
    "Note:\n",
    "If you are given an array with multiple answers, return the lowest correct index.\n",
    "\n",
    "Check your answer with the following arrays\n",
    "\n",
    "`\n",
    "find_even_index([1,2,3,4,3,2,1]) should return 3\n",
    "find_even_index([1,100,50,-51,1,1]) should return 1\n",
    "find_even_index([1,2,3,4,5,6]) should return -1\n",
    "find_even_index([20,10,30,10,10,15,35]) should return 3\n",
    "find_even_index([20,10,-80,10,10,15,35]) should return 0\n",
    "find_even_index([10,-80,10,10,15,35,20]) should return 6\n",
    "find_even_index(range(1,100)) should return -1\n",
    "find_even_index([-1,-2,-3,-4,-3,-2,-1]) should return 3\n",
    "find_even_index(range(-100,-1)) should return -1\n",
    "find_even_index([0,0,0,0,0]) should return 0 because it Should pick the first index if more cases are valid\n",
    "`"
   ]
  },
  {
   "cell_type": "code",
   "execution_count": 20,
   "metadata": {},
   "outputs": [],
   "source": [
    "# your code here \n",
    "def find_even_index(list_original:list)-> int:\n",
    "    i = 0\n",
    "    for i in range (len(list_original)):\n",
    "        if sum (list_original[:i]) == sum (list_original[(i+1):]):            \n",
    "            return (i)                     \n",
    "        \n",
    "    return(-1)"
   ]
  },
  {
   "cell_type": "code",
   "execution_count": 21,
   "metadata": {},
   "outputs": [
    {
     "data": {
      "text/plain": [
       "2"
      ]
     },
     "execution_count": 21,
     "metadata": {},
     "output_type": "execute_result"
    }
   ],
   "source": [
    "a = [1,2,3,4,5,6]\n",
    "sum(a[1:2])"
   ]
  },
  {
   "cell_type": "code",
   "execution_count": 22,
   "metadata": {},
   "outputs": [
    {
     "data": {
      "text/plain": [
       "-1"
      ]
     },
     "execution_count": 22,
     "metadata": {},
     "output_type": "execute_result"
    }
   ],
   "source": [
    "# Test \n",
    "find_even_index([1,2,3,4,5,6])"
   ]
  },
  {
   "cell_type": "markdown",
   "metadata": {},
   "source": [
    "# Exercice 6 \n",
    "You are given an input string.\n",
    "\n",
    "For each symbol in the string if it's the first character occurence, replace it with a '1', else replace it with the amount of times you've already seen it...\n",
    "\n",
    "Examples: \n",
    "\n",
    "```python\n",
    "input   =  \"Hello, World!\"\n",
    "result  =  \"1112111121311\"\n",
    "\n",
    "input   =  \"aaaaaaaaaaaa\"\n",
    "result  =  \"123456789101112\"\n",
    "```\n",
    "\n",
    "Test your code with the following strings\n",
    "\n",
    "`\n",
    "numericals(\"Hello, World!\")  should return  \"1112111121311\"\n",
    "numericals(\"Hello, World! It's me, JomoPipi!\") should return \"11121111213112111131224132411122\"\n",
    "numericals(\"hello hello\") should return  \"11121122342\"\n",
    "numericals(\"Hello\") should return \"11121\"\n",
    "numericals(\"aaaaaaaaaaaa\") should return \"123456789101112\"\n",
    "`"
   ]
  },
  {
   "cell_type": "code",
   "execution_count": 90,
   "metadata": {},
   "outputs": [
    {
     "ename": "SyntaxError",
     "evalue": "unexpected EOF while parsing (<ipython-input-90-b084bc9a744f>, line 10)",
     "output_type": "error",
     "traceback": [
      "\u001b[1;36m  File \u001b[1;32m\"<ipython-input-90-b084bc9a744f>\"\u001b[1;36m, line \u001b[1;32m10\u001b[0m\n\u001b[1;33m    \u001b[0m\n\u001b[1;37m    ^\u001b[0m\n\u001b[1;31mSyntaxError\u001b[0m\u001b[1;31m:\u001b[0m unexpected EOF while parsing\n"
     ]
    }
   ],
   "source": [
    "# your code here \n",
    "def numericals(sentence):\n",
    "    i = 0\n",
    "    res = {}\n",
    "    while i:\n",
    "        for l in sentence:\n",
    "            print(res.append(1* count[l])\n",
    "        \n",
    "        \n",
    "        \n"
   ]
  },
  {
   "cell_type": "code",
   "execution_count": 89,
   "metadata": {},
   "outputs": [],
   "source": [
    "numericals(\"Hello, World!\")"
   ]
  },
  {
   "cell_type": "markdown",
   "metadata": {},
   "source": [
    "# Exercice 7 \n",
    "\n",
    "Write a function called 'solve'. It shoud take two arrays of string and return the number of times each string of the second array appears in the first array.\n",
    "\n",
    "Example\n",
    "\n",
    "array1 = ['abc', 'abc', 'xyz', 'cde', 'uvw']\n",
    "\n",
    "array2 = ['abc', 'cde', 'uap']\n",
    "\n",
    "How many times do the elements in array2 appear in array1?\n",
    "\n",
    "\n",
    "'abc' appears twice in the first array (2)\n",
    "\n",
    "'cde' appears only once (1)\n",
    "\n",
    "'uap' does not appear in the first array (0)\n",
    "\n",
    "Therefore, solve(array1, array2) = [2, 1, 0]\n",
    "\n"
   ]
  },
  {
   "cell_type": "code",
   "execution_count": 334,
   "metadata": {},
   "outputs": [],
   "source": [
    "def solve(arr1,arr2) -> list:\n",
    "    i = 0\n",
    "    solve_erg = []\n",
    "    for l in arr2:\n",
    "        for i in range (len(arr1)):\n",
    "            if l in arr1:\n",
    "                solve_erg.append(l)\n",
    "                print(solve_erg.count(l), end = ',')\n",
    "            else:\n",
    "                print('{} is not in the first array'.format (l))\n",
    "    "
   ]
  },
  {
   "cell_type": "code",
   "execution_count": 335,
   "metadata": {},
   "outputs": [
    {
     "name": "stdout",
     "output_type": "stream",
     "text": [
      "1,2,3,4,5,1,2,3,4,5,uap is not in the first array\n",
      "uap is not in the first array\n",
      "uap is not in the first array\n",
      "uap is not in the first array\n",
      "uap is not in the first array\n"
     ]
    }
   ],
   "source": [
    "# test your function with those values \n",
    "gegeben = ['abc', 'abc','xyz','abcd','cde']\n",
    "solved = ['abc', 'cde', 'uap']\n",
    "solve(gegeben,solved ) # should give [2, 1, 0]\n",
    "# solve(['abc', 'xyz','abc', 'xyz','cde'], ['abc', 'cde', 'xyz']) # should give  [2, 1, 2])\n",
    "# solve(['quick', 'brown', 'fox', 'is', 'quick'], ['quick', 'abc', 'fox']) # should give [2, 0, 1])"
   ]
  },
  {
   "cell_type": "code",
   "execution_count": 113,
   "metadata": {},
   "outputs": [
    {
     "data": {
      "text/plain": [
       "'abc'"
      ]
     },
     "execution_count": 113,
     "metadata": {},
     "output_type": "execute_result"
    }
   ],
   "source": [
    "gegeben = ['abc', 'abc','xyz','abcd','cde']\n",
    "gegeben[0]"
   ]
  }
 ],
 "metadata": {
  "kernelspec": {
   "display_name": "Python 3",
   "language": "python",
   "name": "python3"
  },
  "language_info": {
   "codemirror_mode": {
    "name": "ipython",
    "version": 3
   },
   "file_extension": ".py",
   "mimetype": "text/x-python",
   "name": "python",
   "nbconvert_exporter": "python",
   "pygments_lexer": "ipython3",
   "version": "3.8.3"
  }
 },
 "nbformat": 4,
 "nbformat_minor": 4
}
