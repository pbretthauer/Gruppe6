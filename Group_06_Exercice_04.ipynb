{
 "cells": [
  {
   "cell_type": "markdown",
   "metadata": {},
   "source": [
    "# Exercice Lab Session 10.12.2020\n",
    "\n",
    "- ternary operation \n",
    "    - blueprint\n",
    "- list comprehension \n",
    "    - blueprint: \n",
    "- Exercices\n",
    "\n",
    "    \n",
    "\n"
   ]
  },
  {
   "cell_type": "markdown",
   "metadata": {},
   "source": [
    "# 1. Ternary Operation: \n",
    "\n"
   ]
  },
  {
   "cell_type": "markdown",
   "metadata": {},
   "source": [
    "## 1.1. Blueprint: \n",
    "Ternary operators are more commonly known as conditional expressions in Python. These operators evaluate something based on a condition being true or not. \n",
    "\n",
    "Here is a blueprint and an example of using these conditional expressions.\n",
    "\n",
    "\n",
    "```python\n",
    "\n",
    "value_if_true if condition else value_if_false\n",
    "\n",
    "``` \n",
    "\n",
    "It allows to quickly test a condition instead of a multiline if statement. Often times it can be immensely helpful and can make your code compact but still maintainable.\n",
    "\n",
    "Example \n",
    "```python\n",
    "\n",
    "is_nice = True\n",
    "state = \"nice\" if is_nice else \"not nice\"\n",
    "\n",
    "\n",
    "```\n",
    "\n",
    "\n"
   ]
  },
  {
   "cell_type": "markdown",
   "metadata": {},
   "source": [
    "## 1.2. Example Ternary Operation \n",
    "Let's write an algorithm that asks for the user's age. If the user is minor (under the age of 18) then print 'you are not allowed here', otherwise print 'welcome'\n"
   ]
  },
  {
   "cell_type": "code",
   "execution_count": 10,
   "metadata": {},
   "outputs": [
    {
     "name": "stdin",
     "output_type": "stream",
     "text": [
      "Welcome to CinemaXXX, How old are you? 17\n"
     ]
    },
    {
     "name": "stdout",
     "output_type": "stream",
     "text": [
      "You are not allowed here!\n"
     ]
    }
   ],
   "source": [
    "# our code here \n",
    "age = int(input(\"Welcome to CinemaXXX, How old are you?\"))\n",
    "\n",
    "if age >= 18: \n",
    "    print(\"Welcome!\")\n",
    "else: \n",
    "    print(\"You are not allowed here!\")"
   ]
  },
  {
   "cell_type": "markdown",
   "metadata": {},
   "source": [
    "## 1.3. Ternary exercice \n",
    "Place problem:\n",
    "As usual there are problem of not enough space left in the fridge. We want to write a simple program telling if all food will pass into the fridge. \n",
    "\n",
    "Task Overview:\n",
    "We have to write a function that accepts three parameters:\n",
    "\n",
    "cap is the amount items the fridge can hold.\n",
    "on is the number of items already in the fridge.\n",
    "wait is the number of items waiting to get into the fridge.\n",
    "If there is enough space, return 0, and if there isn't, return the number items we can't take.\n",
    "\n",
    "enough(10, 5, 5)\n",
    "0 # He can fit all 5 items\n",
    "enough(100, 60, 50)\n",
    "10 # He can't fit 10 out of 50 waiting"
   ]
  },
  {
   "cell_type": "code",
   "execution_count": 11,
   "metadata": {},
   "outputs": [
    {
     "name": "stdout",
     "output_type": "stream",
     "text": [
      "0\n"
     ]
    }
   ],
   "source": [
    "# do it first with a normal if (and not within a function)\n",
    "cap = 10\n",
    "on = 5\n",
    "wait = 5\n",
    "on_and_wait = on + wait \n",
    "if on_and_wait <= cap: \n",
    "    print(0)\n",
    "else :\n",
    "    print(on_and_wait - cap)"
   ]
  },
  {
   "cell_type": "code",
   "execution_count": 12,
   "metadata": {},
   "outputs": [
    {
     "name": "stdout",
     "output_type": "stream",
     "text": [
      "10\n"
     ]
    }
   ],
   "source": [
    "cap = 100 \n",
    "on = 60 \n",
    "wait = 50 \n",
    "\n",
    "on_and_wait = on + wait \n",
    "blabla = 0 if on_and_wait <= cap else on_and_wait - cap \n",
    "print(blabla)"
   ]
  },
  {
   "cell_type": "code",
   "execution_count": 16,
   "metadata": {},
   "outputs": [],
   "source": [
    "# an now pack it into a function called enough(cap, on, wait) that return the expected values \n",
    "def enough(cap, on, wait): \n",
    "    on_and_wait = on + wait\n",
    "    return 0 if on_and_wait <= cap else on_and_wait - cap "
   ]
  },
  {
   "cell_type": "code",
   "execution_count": 17,
   "metadata": {},
   "outputs": [
    {
     "data": {
      "text/plain": [
       "10"
      ]
     },
     "execution_count": 17,
     "metadata": {},
     "output_type": "execute_result"
    }
   ],
   "source": [
    "enough( cap,on,wait )"
   ]
  },
  {
   "cell_type": "markdown",
   "metadata": {},
   "source": [
    "# 2. List comprehension\n",
    " \n",
    "## 2.1. Blueprint\n",
    "List comprehensions provide a short and concise way to create lists. It consists of square brackets containing an expression followed by a for clause, then zero or more for or if clauses. The expressions can be anything, meaning you can put in all kinds of objects in lists. The result would be a new list made after the evaluation of the expression in context of the if and for clauses.\n",
    "\n",
    "```python\n",
    "\n",
    "variable = [out_exp for out_exp in input_list if out_exp == 2]\n",
    "\n",
    "```\n",
    "\n",
    "Note: List comprehension works logically with list. But you can also use comprehension with set, dictionary etc. [here for more](https://book.pythontips.com/en/latest/comprehensions.html?highlight=list%20comprehensio#)"
   ]
  },
  {
   "cell_type": "markdown",
   "metadata": {},
   "source": [
    "## 2.2. Example list comprehension: \n",
    "Let's write an algorithm that save all the passwords that contains the letter 't' in another list\n",
    "\n",
    "\n",
    "psswd = ['harley','batman','andrew','tigger','sunshine','iloveyou','2000','charlie','robert','thomas','hockey','ranger','daniel','starwars','klaster']"
   ]
  },
  {
   "cell_type": "code",
   "execution_count": 18,
   "metadata": {},
   "outputs": [
    {
     "name": "stdout",
     "output_type": "stream",
     "text": [
      "['batman', 'tigger', 'robert', 'thomas', 'starwars', 'klaster']\n"
     ]
    }
   ],
   "source": [
    "# again, write is as a normal algorithn with a normal for loop (not within a function)\n",
    "passwords = ['harley','batman','andrew','tigger','sunshine','iloveyou','2000','charlie','robert','thomas','hockey','ranger','daniel','starwars','klaster']\n",
    "\n",
    "res = []\n",
    "for password in passwords :\n",
    "    if 't' in password:\n",
    "        res.append(password)\n",
    "print(res)\n"
   ]
  },
  {
   "cell_type": "code",
   "execution_count": 19,
   "metadata": {},
   "outputs": [
    {
     "name": "stdout",
     "output_type": "stream",
     "text": [
      "['BATMAN', 'TIGGER', 'ROBERT', 'THOMAS', 'STARWARS', 'KLASTER']\n"
     ]
    }
   ],
   "source": [
    "# write it again but this time in form of a list comprehension\n",
    "#res_comprehension_u = [password.upper() for password in passwords]\n",
    "#print(res_comprehension_u)\n",
    "res_comprehension = [password.upper() for password in passwords if 't' in password]\n",
    "print(res_comprehension)"
   ]
  },
  {
   "cell_type": "code",
   "execution_count": 23,
   "metadata": {},
   "outputs": [],
   "source": [
    "# let's pack it in a function called check_t(passwords) that return those passwords with 't' in it. \n",
    "def check_t(passwords):\n",
    "    return [password.upper() for password in passwords if 't' in password]\n",
    "   "
   ]
  },
  {
   "cell_type": "markdown",
   "metadata": {},
   "source": [
    "## 2.3. List comprehension exercice\n",
    "\n",
    "1.1 Write an algorithm that save all even numbers from list into another list with for loop and then with a list comprehension. Put your algorithm into a function called get_even(list_nb) when you are done and return the result list. \n"
   ]
  },
  {
   "cell_type": "code",
   "execution_count": 24,
   "metadata": {},
   "outputs": [
    {
     "name": "stdout",
     "output_type": "stream",
     "text": [
      "[2, 38, 40, 44, 36]\n"
     ]
    }
   ],
   "source": [
    "# your code here \n",
    "# again, write is as a normal algorithn with a normal for loop (not within a function)\n",
    "\n",
    "nb_lst_1 = [2, 38, 49, 37, 43, 40, 49, 59, 44, 25, 36]\n",
    "nb_lst_2 = [29, 33, 32, 21, 48, 87, 96, 99, 22, 11, 13]\n",
    "res =[]\n",
    "for nb in nb_lst_1:\n",
    "    if nb %2 == 0: \n",
    "        res.append(nb)\n",
    "print(res)"
   ]
  },
  {
   "cell_type": "code",
   "execution_count": 25,
   "metadata": {},
   "outputs": [
    {
     "name": "stdout",
     "output_type": "stream",
     "text": [
      "[2, 38, 40, 44, 36]\n"
     ]
    }
   ],
   "source": [
    "# write it again but this time in form of a list comprehension\n",
    "res_comprehension = [nb for nb in nb_lst_1 if nb %2==0]\n",
    "print(res_comprehension)\n"
   ]
  },
  {
   "cell_type": "code",
   "execution_count": 27,
   "metadata": {},
   "outputs": [],
   "source": [
    "# let's pack it in a function get_even(list_nb) that return those even numbers\n",
    "def get_even(list_nb): \n",
    "    return [nb for nb in list_nb if nb %2==0]"
   ]
  },
  {
   "cell_type": "code",
   "execution_count": 28,
   "metadata": {},
   "outputs": [
    {
     "data": {
      "text/plain": [
       "[32, 48, 96, 22]"
      ]
     },
     "execution_count": 28,
     "metadata": {},
     "output_type": "execute_result"
    }
   ],
   "source": [
    "get_even(nb_lst_2)"
   ]
  },
  {
   "cell_type": "markdown",
   "metadata": {},
   "source": [
    "# 3. Exercices\n",
    "\n",
    "## Exercice 1\n",
    "\n",
    "We want returns the _index_ of the numerical element that lies between the other two elements.\n",
    "\n",
    "The input to the function will always be an array of three distinct numbers.\n",
    "\n",
    "For example:\n",
    "\n",
    "gimme([2, 3, 1]) => 0\n",
    "\n",
    "2 is the number that fits between 1 and 3 and the index of 2 in the input array is 0.\n",
    "\n",
    "\n",
    "Another example (just to make sure it is clear):\n",
    "\n",
    "gimme([5, 10, 14]) => 1\n",
    "\n",
    "10 is the number that fits between 5 and 14 and the index of 10 in the input array is 1.\n",
    "\n",
    "\n",
    "__here are some functions that you might use here__\n",
    "```python\n",
    "min() # see above \n",
    "max() # see above \n",
    "\n",
    "my_list.index(value) # index()  will give you the index of 'value' if value is in the array. It will give a ValueError if the value is not in the list. \n",
    "\n",
    "```\n"
   ]
  },
  {
   "cell_type": "code",
   "execution_count": 29,
   "metadata": {},
   "outputs": [
    {
     "name": "stdout",
     "output_type": "stream",
     "text": [
      "2\n"
     ]
    }
   ],
   "source": [
    "my_list = [1,10,5]\n",
    "maximum = max(my_list)\n",
    "minimum = min(my_list)\n",
    "#my_list.index(14)\n",
    "index_maximum = my_list.index(maximum)\n",
    "index_minimum = my_list.index(minimum)\n",
    "\n",
    "possibility =[0,1,2]\n",
    "exists = [index_minimum, index_maximum]\n",
    "\n",
    "res = 0\n",
    "\n",
    "for pos in possibility:\n",
    "    if pos not in exists:\n",
    "        res = pos \n",
    "print(res)\n"
   ]
  },
  {
   "cell_type": "code",
   "execution_count": 30,
   "metadata": {},
   "outputs": [
    {
     "name": "stdout",
     "output_type": "stream",
     "text": [
      "[2]\n"
     ]
    }
   ],
   "source": [
    "# write it again but this time in form of a list comprehension\n",
    "res_comprehension = [pos for pos in possibility if pos not in exists]\n",
    "print(res_comprehension)"
   ]
  },
  {
   "cell_type": "code",
   "execution_count": 123,
   "metadata": {},
   "outputs": [
    {
     "name": "stdout",
     "output_type": "stream",
     "text": [
      "2\n"
     ]
    }
   ],
   "source": [
    "# put it into a function\n",
    "def index_list(x):\n",
    "    return [a.index(i) for i in a if i < Mx_a and i > Mi_a]\n",
    "print(a.index(i))"
   ]
  },
  {
   "cell_type": "markdown",
   "metadata": {},
   "source": [
    "## Exercice 2\n",
    "\n",
    "Write a function that return the sum of the even values of a sequence.\n",
    "\n",
    "Examples:\n",
    "\n",
    "[4, 3, 1, 2, 5, 10, 6, 7, 9, 8]  -->  30   # because 4 + 2 + 10 + 6 + 8 = 30\n",
    "\n",
    "[]                               -->  0\n",
    "\n",
    "\n"
   ]
  },
  {
   "cell_type": "code",
   "execution_count": 15,
   "metadata": {},
   "outputs": [
    {
     "name": "stdout",
     "output_type": "stream",
     "text": [
      "30\n"
     ]
    }
   ],
   "source": [
    "# your code here \n",
    "# [2,3,5,6,9,10,8] # should be  26\n",
    "nb_1 = [4, 3, 1, 2, 5, 10, 6, 7, 9, 8]\n",
    "new_nb = []\n",
    "for number in nb_1:\n",
    "    if number % 2 == 0:\n",
    "        new_nb.append (number)\n",
    "        sum_even_nb = sum (new_nb)\n",
    "print (sum_even_nb)"
   ]
  },
  {
   "cell_type": "code",
   "execution_count": 16,
   "metadata": {},
   "outputs": [
    {
     "name": "stdout",
     "output_type": "stream",
     "text": [
      "30\n"
     ]
    }
   ],
   "source": [
    "#sum_even_nb = sum (new_nb)\n",
    "#new_nb.append(number)\n",
    "sum_even = [number for number in nb_1 if number % 2 == 0]\n",
    "sum_even_nb = sum(new_nb)\n",
    "print (sum_even_nb)"
   ]
  },
  {
   "cell_type": "code",
   "execution_count": 17,
   "metadata": {},
   "outputs": [
    {
     "data": {
      "text/plain": [
       "0"
      ]
     },
     "execution_count": 17,
     "metadata": {},
     "output_type": "execute_result"
    }
   ],
   "source": [
    "nb_2 = [3,33,6,7,39,210,18]\n",
    "def sum_even_all(x):    \n",
    "    #new_nb.append (number)\n",
    "    new_nb = []\n",
    "    #sum_even = [number for number in nb_2 if number % 2 == 0 ]       \n",
    "    sum_even_nb = sum(new_nb)\n",
    "    return (sum_even_nb)\n",
    "sum_even_all(nb_2)"
   ]
  },
  {
   "cell_type": "markdown",
   "metadata": {},
   "source": [
    "## Exercice 3\n",
    "IT-Bar recommends you drink 1 glass of water per standard drink so you're not hungover tomorrow morning.\n",
    "\n",
    "Your fellow coders have bought you several drinks tonight in the form of a string. Return a string suggesting how many glasses of water you should drink to not be hungover.\n",
    "\n",
    "Examples\n",
    "\n",
    "\"1 beer\"  -->  \"1 glass of water\"\n",
    "because you drank one standard drink\n",
    "\n",
    "\"1 shot, 5 beers, 2 shots, 1 glass of wine, 1 beer\"  -->  \"10 glasses of water\"\n",
    "because you drank ten standard drinks\n",
    "\n",
    "Note:\n",
    "\n",
    "To keep the things simple, we'll consider that any \"numbered thing\" in the string is a drink. Even \"1 bear\" -> \"1 glass of water\"; or \"1 chainsaw and 2 pools\" -> \"3 glasses of water\"...\n",
    "\n",
    "\n",
    "\n",
    "\n",
    "__here are some functions that you might use here__\n",
    "```python\n",
    "var.isdigit() # return True it the variable 'var' is a digig, False if 'var' is not a digit\n",
    "\n",
    "var1 = 5 \n",
    "var1.isdigit() # will return True because 5 is a digit \n",
    "\n",
    "var2 = 'n'\n",
    "var2.isdigit() # will return False because 'n' is not a digit \n",
    "\n",
    "var3 = 'test'\n",
    "var3.isdigit() # will return False because 'test' is not a digit \n",
    "```\n",
    "\n"
   ]
  },
  {
   "cell_type": "code",
   "execution_count": 9,
   "metadata": {},
   "outputs": [
    {
     "name": "stdout",
     "output_type": "stream",
     "text": [
      "15211\n",
      "[1, 5, 2, 1, 1]\n",
      "10 glasses of water.\n"
     ]
    }
   ],
   "source": [
    "# your code here \n",
    "drink = \"1 shot, 5 beers, 2 shots, 1 glass of wine, 1 beer\"\n",
    "#l_drink = list(drink)\n",
    "#print(l_drink)\n",
    "sum_d = []\n",
    "for i in range(len(drink)):\n",
    "    if (drink[i].isdigit()) == True:              # 0 and int(l_drink[i]) <= 9:\n",
    "        sum_d.append(drink[i])\n",
    "sum_int = (''.join(sum_d)) \n",
    "print (sum_int)            \n",
    "sum_str = str(sum_d).replace(\"'\",\"\")   \n",
    "print(sum_str)   \n",
    "#def numsum(s):\n",
    "sum = 0                           \n",
    "for j in range(len(sum_str)):            \n",
    "    if sum_str[j] >= '0' and sum_str[j] <= '9':   \n",
    "            sum = sum + int(sum_str[j])  \n",
    "print ('{} glasses of water.'.format(sum))\n"
   ]
  },
  {
   "cell_type": "code",
   "execution_count": null,
   "metadata": {},
   "outputs": [],
   "source": [
    "#sum_d = {}\n",
    "for i in range(len(drink)):\n",
    "    if (drink[i].isdigit()) == True:              # 0 and int(l_drink[i]) <= 9:\n",
    "        sum_d = (''.insert(drink[i]))\n",
    "print(sum_d)"
   ]
  },
  {
   "cell_type": "code",
   "execution_count": null,
   "metadata": {},
   "outputs": [],
   "source": [
    "drink = [1, 5, 2, 1, 1]\n",
    "b = sum(drink)\n",
    "b"
   ]
  },
  {
   "cell_type": "code",
   "execution_count": null,
   "metadata": {},
   "outputs": [],
   "source": [
    "#hydrate(\"1 beer\") # \"1 glass of water\"\n",
    "#hydrate(\"1 shot, 5 beers, 2 shots, 1 glass of wine, 1 beer\") # \"10 glasses of water\"\n",
    "hydrate(\"6 beer horns and 1 shots of rum, 5 shots of rum, 4 shots of rum, 1 beers, 5 cups of coffee, 1 beer horns, 2 shots\")  # \"25 glasses of water\"\n",
    "\n"
   ]
  },
  {
   "cell_type": "markdown",
   "metadata": {},
   "source": [
    "## Exercice 4\n",
    "\n",
    "From an Integer list, create a new list by adding each consecutive pair of the list.\n",
    "\n",
    "Examples: \n",
    "\n",
    "[1, 1, 1, 1]  -->  [2, 2, 2]  #  [1+1, 1+1, 1+1]\n",
    "\n",
    "\n",
    "[1, 2, 3, 4]  -->  [3, 5, 7]  #  [1+2, 2+3, 3+4]\n",
    "\n",
    "\n",
    "[1, 10, 100]  -->  [11, 110]  #  [1+10, 10+100]\n",
    "\n"
   ]
  },
  {
   "cell_type": "code",
   "execution_count": 20,
   "metadata": {},
   "outputs": [
    {
     "name": "stdout",
     "output_type": "stream",
     "text": [
      "[3, 5, 7, 9, 11, 13, 15]\n"
     ]
    }
   ],
   "source": [
    "# your code here \n",
    "list_1 = [1,2,3,4,5,6,7,8]\n",
    "list_2 = []\n",
    "for i in range(len(list_1)-1):\n",
    "    #for l in list_1:\n",
    "    l = list_1[i] + list_1[i+1]\n",
    "    list_2.append(l)\n",
    "        \n",
    "print((list_2))"
   ]
  },
  {
   "cell_type": "code",
   "execution_count": 35,
   "metadata": {},
   "outputs": [
    {
     "name": "stdout",
     "output_type": "stream",
     "text": [
      "[3, 5, 7, 9, 11, 13, 15]\n"
     ]
    }
   ],
   "source": [
    "#list_2.append(l)\n",
    "\n",
    "list_2 = [list_1[i] + list_1[i+1] for i in range(len(list_1)-1) ]\n",
    "#l = list_1[i] + list_1[i+1]\n",
    "#list_2.append(l)\n",
    "print(list_2)"
   ]
  },
  {
   "cell_type": "code",
   "execution_count": 39,
   "metadata": {},
   "outputs": [
    {
     "data": {
      "text/plain": [
       "[3, 5, 7]"
      ]
     },
     "execution_count": 39,
     "metadata": {},
     "output_type": "execute_result"
    }
   ],
   "source": [
    "make_new_list=[1,2,3,4]\n",
    "def new_lst(x):\n",
    "    return [list_1[i] + list_1[i+1] for i in range(len(make_new_list)-1)]\n",
    "new_lst (make_new_list)"
   ]
  },
  {
   "cell_type": "markdown",
   "metadata": {},
   "source": [
    "## Exercice 5 \n",
    "Given an array of integers , Find the maximum product obtained from multiplying 2 adjacent numbers in the array.\n",
    "\n",
    "Notes\n",
    "Array/list size is at least 2.\n",
    "\n",
    "Array/list numbers could be a mixture of positives, negatives also zeroes .\n",
    "\n",
    "Examples: \n",
    "\n",
    "adjacentElementsProduct([1, 2, 3]); ==> return 6\n",
    "\n",
    "Explanation:\n",
    "\n",
    "The maximum product obtained from multiplying 2 * 3 = 6, and they're adjacent numbers in the array.\n",
    "\n",
    "\n",
    "\n",
    "adjacentElementsProduct([9, 5, 10, 2, 24, -1, -48]); ==> return 50\n",
    "\n",
    "Explanation:\n",
    "\n",
    "Max product obtained from multiplying 5 * 10 = 50.\n",
    "\n",
    "__here are some functions that you might use here__\n",
    "```python\n",
    "max() # return the max from a list\n",
    "max([2,3,4,5]) # will return 5 because 5 is the max in the list \n",
    "\n",
    "min() # same as max but it will return the minimum \n",
    "```\n"
   ]
  },
  {
   "cell_type": "code",
   "execution_count": 2,
   "metadata": {},
   "outputs": [
    {
     "name": "stdout",
     "output_type": "stream",
     "text": [
      "18\n"
     ]
    }
   ],
   "source": [
    "list_2 = [5, 1, 2, 3, 1, 4,3,6,1,8,2]\n",
    "res = []\n",
    "for i in range(len(list_2)-1):\n",
    "    new_elm_1 = list_2[i] * list_2[i+1]\n",
    "    res.append(new_elm_1) \n",
    "                                                            #x = list_2[i] * list_2[i+1]\n",
    "    res_nb = max(res)                                       #y = list_2[i+1] * list_2[i+2]\n",
    "#print(res)\n",
    "print(res_nb)   "
   ]
  },
  {
   "cell_type": "code",
   "execution_count": 3,
   "metadata": {},
   "outputs": [
    {
     "name": "stdout",
     "output_type": "stream",
     "text": [
      "18\n"
     ]
    }
   ],
   "source": [
    "list_2_comperhension = [max(res) for i in range(len(list_2)-1)]\n",
    "#new_elm = list_2[i] * list_2[i+1]\n",
    "print(res_nb) "
   ]
  },
  {
   "cell_type": "code",
   "execution_count": null,
   "metadata": {},
   "outputs": [],
   "source": [
    "assert_equal = [5, 1, 2, 3, 1, 4]\n",
    "def list_comp(m):\n",
    "    res_1 = []\n",
    "    new_elm_2 = assert_equal[i] * assert_equal[i+1]\n",
    "    res_1.append(new_elm_2)\n",
    "    return [max(res_1) for i in range(len(assert_equal)-1)]\n",
    "    #new_elm_2 = assert_equal[i] * assert_equal[i+1]\n",
    "    #res.append(new_elm_2) \n",
    "    #return (max(res)\n",
    "list_comp(assert_equal)"
   ]
  },
  {
   "cell_type": "code",
   "execution_count": null,
   "metadata": {},
   "outputs": [],
   "source": [
    "# this is for testing our answer\n",
    "\n",
    "assert_equals(adjacent_element_product([5, 8]), 40)\n",
    "assert_equals(adjacent_element_product([1, 2, 3]), 6)\n",
    "assert_equals(adjacent_element_product([1, 5, 10, 9]), 90)\n",
    "assert_equals(adjacent_element_product([4, 12, 3, 1, 5]), 48)\n",
    "assert_equals(adjacent_element_product([5, 1, 2, 3, 1, 4]), 6)\n",
    "\n",
    "# \"Both positive and negative values\"\n",
    "assert_equals(adjacent_element_product([3, 6, -2, -5, 7, 3]), 21)\n",
    "assert_equals(adjacent_element_product([9, 5, 10, 2, 24, -1, -48]), 50)\n",
    "assert_equals(adjacent_element_product([5, 6, -4, 2, 3, 2, -23]), 30)\n",
    "assert_equals(adjacent_element_product([-23, 4, -5, 99, -27, 329, -2, 7, -921]), -14)\n",
    "assert_equals(adjacent_element_product([5, 1, 2, 3, 1, 4]), 6)\n",
    "\n",
    "# \"Contains zeroes\"\n",
    "assert_equals(adjacent_element_product([1, 0, 1, 0, 1000]), 0)\n",
    "assert_equals(adjacent_element_product([1, 2, 3, 0]), 6)"
   ]
  },
  {
   "cell_type": "markdown",
   "metadata": {},
   "source": [
    "## Exercice 6\n",
    "\n",
    "Your task is to write a function called valid_spacing() or validSpacing() which checks if a string has valid spacing. The function should return either True or False.\n",
    "\n",
    "For this kata, the definition of valid spacing is one space between words, and no leading or trailing spaces. Below are some examples of what the function should return.\n",
    "\n"
   ]
  },
  {
   "cell_type": "code",
   "execution_count": 63,
   "metadata": {},
   "outputs": [
    {
     "name": "stdout",
     "output_type": "stream",
     "text": [
      "['', 'gasgas', 'fe', '']\n",
      "gasgas\n",
      "True\n",
      "\n"
     ]
    }
   ],
   "source": [
    "# your code here \n",
    "sentence = ' gasgas fe '\n",
    "#for i in range(len(sentence)):\n",
    "sentence_split = sentence.split(\" \")\n",
    "print(sentence_split)\n",
    "print(sentence_split[1])\n",
    "if sentence_split[0] == ' ' and sentence_split[sentence_split[len(sentence_split)-1]] == ' ':\n",
    "    print(False)\n",
    "else:\n",
    "    print(True)\n",
    "print(sentence_split[len(sentence_split)-1])"
   ]
  },
  {
   "cell_type": "code",
   "execution_count": 22,
   "metadata": {},
   "outputs": [
    {
     "name": "stdout",
     "output_type": "stream",
     "text": [
      "False\n",
      " \n"
     ]
    }
   ],
   "source": [
    "sentence = ' gasgafe '\n",
    "#sentence_str = str(sentence)\n",
    "if sentence[0] == \" \" and sentence[len(sentence)-1] == ' ':\n",
    "    print(False)\n",
    "else:\n",
    "    print(True)\n",
    "print (sentence[0])"
   ]
  },
  {
   "cell_type": "code",
   "execution_count": 23,
   "metadata": {},
   "outputs": [
    {
     "data": {
      "text/plain": [
       "' gasgafe '"
      ]
     },
     "execution_count": 23,
     "metadata": {},
     "output_type": "execute_result"
    }
   ],
   "source": [
    "sentence_comph = [False if sentence[0] == ' ' and sentence[len(sentence)-1] == ' ' else True]\n",
    "\n",
    "sentence"
   ]
  },
  {
   "cell_type": "code",
   "execution_count": 33,
   "metadata": {},
   "outputs": [
    {
     "data": {
      "text/plain": [
       "[False]"
      ]
     },
     "execution_count": 33,
     "metadata": {},
     "output_type": "execute_result"
    }
   ],
   "source": [
    "def sentence_bool(x):\n",
    "    return[False if sentence[0] == ' ' and sentence[len(sentence)-1] == ' ' else True]\n",
    "sentence_bool('Helloworld')"
   ]
  },
  {
   "cell_type": "code",
   "execution_count": null,
   "metadata": {},
   "outputs": [],
   "source": [
    "assert_equals(valid_spacing('Hello world'),True)\n",
    "assert_equals(valid_spacing(' Hello world'),False)\n",
    "assert_equals(valid_spacing('Hello  world '),False)\n",
    "assert_equals(valid_spacing('Hello'),True)\n",
    "assert_equals(valid_spacing('Helloworld'),True)\n",
    "assert_equals(valid_spacing(''),True)\n",
    "assert_equals(valid_spacing(' '),False)"
   ]
  }
 ],
 "metadata": {
  "kernelspec": {
   "display_name": "Python 3",
   "language": "python",
   "name": "python3"
  },
  "language_info": {
   "codemirror_mode": {
    "name": "ipython",
    "version": 3
   },
   "file_extension": ".py",
   "mimetype": "text/x-python",
   "name": "python",
   "nbconvert_exporter": "python",
   "pygments_lexer": "ipython3",
   "version": "3.8.3"
  }
 },
 "nbformat": 4,
 "nbformat_minor": 4
}
