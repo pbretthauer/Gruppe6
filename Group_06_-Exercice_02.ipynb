{
 "cells": [
  {
   "cell_type": "markdown",
   "metadata": {},
   "source": [
    "# Exercice 02:\n",
    "\n",
    "The following exercice requires some understanding in the following subjects: \n",
    "- understand conditions in python\n",
    "- write some loops\n",
    "\n",
    "\n"
   ]
  },
  {
   "cell_type": "markdown",
   "metadata": {},
   "source": [
    "## Loop:\n",
    "\n",
    "### 1. **Use `for`, `.split()`, and `if` to create a Statement that will print out words that start with 's':**\n",
    "\n"
   ]
  },
  {
   "cell_type": "code",
   "execution_count": 1,
   "metadata": {},
   "outputs": [
    {
     "name": "stdout",
     "output_type": "stream",
     "text": [
      "start\n",
      "s\n",
      "simple\n",
      "sentence\n"
     ]
    }
   ],
   "source": [
    "# it should print: \"start\", \"s\", \"simple\", \"sentence\"\n",
    "\n",
    "# change the string in list by a space separation by default with split \n",
    "\n",
    "# print all the words starting with a \"s\"\n",
    "\n",
    "user = 'Print all the words start with s in simple sentence' \n",
    "for word in user.split(): \n",
    "    if word[0] == 's': \n",
    "        print(word)"
   ]
  },
  {
   "cell_type": "markdown",
   "metadata": {},
   "source": [
    "### 2. Given a list l_list, delete all the `0` values in the list `l_list`. (hint: see the [methods for list in the python documentation](https://docs.python.org/3/tutorial/datastructures.html))"
   ]
  },
  {
   "cell_type": "code",
   "execution_count": 5,
   "metadata": {},
   "outputs": [
    {
     "name": "stdout",
     "output_type": "stream",
     "text": [
      "[2, 5, 8, 0, 0, 0, 0, 5, 2, 3, 9, 1, 5, 3, 0, 11, 13, 0, 5]\n",
      "[2, 5, 8, 0, 0, 0, 5, 2, 3, 9, 1, 5, 3, 0, 11, 13, 0, 5]\n",
      "[2, 5, 8, 0, 0, 5, 2, 3, 9, 1, 5, 3, 0, 11, 13, 0, 5]\n",
      "[2, 5, 8, 0, 5, 2, 3, 9, 1, 5, 3, 0, 11, 13, 0, 5]\n",
      "[2, 5, 8, 5, 2, 3, 9, 1, 5, 3, 0, 11, 13, 0, 5]\n",
      "[2, 5, 8, 5, 2, 3, 9, 1, 5, 3, 11, 13, 0, 5]\n",
      "[2, 5, 8, 5, 2, 3, 9, 1, 5, 3, 11, 13, 5]\n"
     ]
    }
   ],
   "source": [
    "# here is the list l_list \n",
    "l_list = [ 2 , 5 , 8 , 0 , 0 , 0 , 0 , 0 , 5 , 2 , 3 , 9 , 1 , 5 , 3 , 0, 11, 13, 0, 5]\n",
    "# WARNING, you cannot delete an element in a list during a loop, why? Because of shrinking list\n",
    "# the best way is to create another list and save all the wanted value in this list. \n",
    "# let's create another empty list to save the value without zero\n",
    "\n",
    "for number in l_list[:]:\n",
    "    if number == 0:\n",
    "        l_list.remove(number)\n",
    "        print(l_list)\n"
   ]
  },
  {
   "cell_type": "markdown",
   "metadata": {},
   "source": [
    "### 3. We consider the following dictionary (students) whose keys are the names of the students and the values of the keys are the overall averages obtained by passing the final exam.\n",
    "\n",
    "Write a Python program that partitions this dictionary into two sub-dictionaries:\n",
    "\n",
    "1. admittedStudents whose keys are the admitted students and the values of the keys are the averages obtained (average greater than or equal to 10 ).\n",
    "2. nonAdmittedStudent whose keys are the non-admitted students and whose key values are the averages obtained (average less than or equal to 10).\n",
    "\n"
   ]
  },
  {
   "cell_type": "code",
   "execution_count": 2,
   "metadata": {},
   "outputs": [
    {
     "name": "stdout",
     "output_type": "stream",
     "text": [
      "Admitted students: {'student_1': 13, 'student_2': 17, 'student_4': 15, 'student_6': 14, 'student_7': 16, 'student_8': 12, 'student_9': 13, 'student_10': 15, 'student_11': 14, 'student_13': 10, 'student_14': 12, 'student_15': 13, 'student_17': 12, 'student_18': 15, 'student_20': 17}\n",
      "Students not admitted: {'student_3': 9, 'student_5': 8, 'student_112': 9, 'student_16': 7, 'student_19': 9}\n"
     ]
    }
   ],
   "source": [
    "students = {\"student_1\" : 13 , \"student_2\" : 17 , \"student_3\" : 9 , \"student_4\" : 15 , \n",
    "\t\t\t \"student_5\" : 8 , \"student_6\" : 14 , \"student_7\" : 16 , \"student_8\" : 12 , \n",
    "\t\t\t \"student_9\" : 13 , \"student_10\" : 15 , \"student_11\" : 14 , \"student_112\" : 9 , \n",
    "\t\t\t \"student_13\" : 10 , \"student_14\" : 12 , \"student_15\" : 13 , \"student_16\" : 7 ,\n",
    "\t\t\t \"student_17\" : 12 , \"student_18\" : 15 , \"student_19\" : 9 , \"student_20\" : 17}\n",
    "\n",
    "# your code here \n",
    "admittedStudents = dict ({})\n",
    "nonAdmittedStudent = dict ({})\n",
    "for key, value in students.items ():\n",
    "    if (value <10):\n",
    "        nonAdmittedStudent[key] = value\n",
    "    else:\n",
    "        admittedStudents[key] = value\n",
    "\n",
    "print (\"Admitted students:\", admittedStudents)\n",
    "\n",
    "print (\"Students not admitted:\", nonAdmittedStudent)\n"
   ]
  },
  {
   "cell_type": "markdown",
   "metadata": {},
   "source": [
    "### 4. Use `for` loop to print an isosceles triangle with the character `*` . The user should be asked for a number and the the program print the triangle with the `*`character. "
   ]
  },
  {
   "cell_type": "code",
   "execution_count": 8,
   "metadata": {},
   "outputs": [
    {
     "name": "stdout",
     "output_type": "stream",
     "text": [
      "Ask for a nummer:\n"
     ]
    },
    {
     "name": "stdin",
     "output_type": "stream",
     "text": [
      " 5\n"
     ]
    },
    {
     "name": "stdout",
     "output_type": "stream",
     "text": [
      "                   *\n",
      "                  ***\n",
      "                 *****\n",
      "                *******\n",
      "               *********\n"
     ]
    }
   ],
   "source": [
    "# if for example, the user type 3, the program should print this: \n",
    "#         *\n",
    "#        ***\n",
    "#       *****\n",
    "#\n",
    "#\n",
    "#  if the user typed 5, the program should print this: \n",
    "#         *\n",
    "#        ***\n",
    "#       *****\n",
    "#      *******\n",
    "#     *********\n",
    "# and so on... \n",
    "\n",
    "print(\"Ask for a nummer:\")\n",
    "rows = int(input())\n",
    "k = 4 * rows - 1\n",
    "for i in range(0, rows):\n",
    "    for j in range(0, k):\n",
    "        print(end=\" \")\n",
    "    k = k - 1\n",
    "    for j in range(1, i + 1):\n",
    "        print(\"*\",end=\"*\")\n",
    "    print(\"*\")\n"
   ]
  },
  {
   "cell_type": "markdown",
   "metadata": {},
   "source": [
    "### 5. A wolf in sheep's clothing\n",
    "Wolves have been reintroduced to Great Britain. You are a sheep farmer, and are now plagued by wolves which pretend to be sheep. Fortunately, you are good at spotting them.\n",
    "\n",
    "Warn the sheep in front of the wolf that it is about to be eaten. Remember that you are standing at the front of the queue which is at the end of the array:\n",
    "\n",
    "```python \n",
    "[sheep, sheep, sheep, sheep, sheep, wolf, sheep, sheep]      (YOU ARE HERE AT THE FRONT OF THE QUEUE)\n",
    "   7      6      5      4      3            2      1\n",
    "```\n",
    "\n",
    "If the wolf is the closest animal to you, return \"Pls go away and stop eating my sheep\". Otherwise, return \"Oi! Sheep number N! You are about to be eaten by a wolf!\" where N is the sheep's position in the queue.\n",
    "\n",
    "Note: there will always be exactly one wolf in the array.\n",
    "\n",
    "Examples: \n",
    "\n",
    "```python \n",
    "sheep_queue_0 = [\"sheep\", \"sheep\", \"sheep\", \"wolf\", \"sheep\"]\n",
    "# should print \n",
    "-> 'Oi! Sheep number 1! You are about to be eaten by a wolf!'\n",
    "\n",
    "sheep_queue_1 = ['sheep', 'sheep', 'wolf']\n",
    "# should print\n",
    "-> 'Pls go away and stop eating my sheep'\n",
    "```\n"
   ]
  },
  {
   "cell_type": "code",
   "execution_count": 10,
   "metadata": {},
   "outputs": [
    {
     "name": "stdout",
     "output_type": "stream",
     "text": [
      "Das ist ein großer wolf!\n",
      "Oi! Sheep number 2! You are about to be eaten by a wolf!\n"
     ]
    }
   ],
   "source": [
    "sheep_queue_2 = ['wolf', 'sheep', 'sheep', 'sheep', 'sheep', 'sheep', 'sheep'] # test your code with sheep_queue_0 and sheep_queue_1 also\n",
    "\n",
    "# your code here \n",
    "sheep_loop = ['sheep', 'sheep','sheep', 'sheep','sheep','sheep', 'wolf', 'sheep'] # test your code with sheep_queue_0 and sheep_queue_1 also\n",
    "for n in (sheep_loop):\n",
    "    if n == 'sheep':\n",
    "        continue\n",
    "    else:\n",
    "        print('Das ist ein großer wolf!')\n",
    "        if sheep_loop.index('wolf') == len(sheep_loop)-1:\n",
    "            print('Pls go away and stop eating my sheep')\n",
    "        else:\n",
    "            print('Oi! Sheep number {}! You are about to be eaten by a wolf!'.format(len(sheep_loop)-sheep_loop.index('wolf')))"
   ]
  },
  {
   "cell_type": "markdown",
   "metadata": {},
   "source": [
    "### 6. time(s)\n",
    "\n",
    "You receive a string, and you need to return a __string__ that shows how many times each letter shows up in the string by using the sign plus \"+\"\n",
    "\n",
    "For example:\n",
    "\n",
    "\"Chicago\"  -->  \"c:++,h:+,i:+,a:+,g:+,o:+\"\n",
    "As you can see, the letter c is shown only once, but with 2 pluses.\n",
    "\n",
    "The return string should include only the letters (not the dashes, spaces, apostrophes, etc). There should be no spaces in the output, and the different letters are separated by a comma (,) as seen in the example above.\n",
    "\n",
    "Note that the return string must list the letters in order of their first appearence in the original string.\n",
    "\n",
    "More examples:\n",
    "\n",
    "\"Bangkok\"    -->  \"b:+,a:+,n:+,g:+,k:++,o:+\"\n",
    "\n",
    "\"Las Vegas\"  -->  \"l:+,a:++,s:++,v:+,e:+,g:+\"\n",
    "\n"
   ]
  },
  {
   "cell_type": "code",
   "execution_count": 7,
   "metadata": {},
   "outputs": [
    {
     "name": "stdout",
     "output_type": "stream",
     "text": [
      "l : +,a : ++,s : ++,v : +,e : +,g : +,"
     ]
    }
   ],
   "source": [
    "# your code here. Test it with the 3 words above\n",
    "alphabet = ['a','b','c','d','e','f','g','h','i','j','k','l','m','n','o','p','q','r','s','t','u','v','x','y','z']\n",
    "a = '+'\n",
    "string = \"Las Vegas\"\n",
    "count = {}\n",
    "for i in string.lower():\n",
    "    if i in count:\n",
    "        count [i] += 1\n",
    "    else:\n",
    "        count[i] = 1\n",
    "for i in count:\n",
    "    if i in alphabet:\n",
    "        print(i,':',count[i]*a, end = ',')\n",
    "    else:\n",
    "        continue"
   ]
  },
  {
   "cell_type": "code",
   "execution_count": null,
   "metadata": {},
   "outputs": [],
   "source": []
  }
 ],
 "metadata": {
  "kernelspec": {
   "display_name": "Python 3",
   "language": "python",
   "name": "python3"
  },
  "language_info": {
   "codemirror_mode": {
    "name": "ipython",
    "version": 3
   },
   "file_extension": ".py",
   "mimetype": "text/x-python",
   "name": "python",
   "nbconvert_exporter": "python",
   "pygments_lexer": "ipython3",
   "version": "3.8.3"
  }
 },
 "nbformat": 4,
 "nbformat_minor": 4
}
