{
 "cells": [
  {
   "cell_type": "markdown",
   "metadata": {},
   "source": [
    "# Mini-projects\n",
    "\n",
    "\n"
   ]
  },
  {
   "cell_type": "markdown",
   "metadata": {},
   "source": [
    "## Help Function for tests\n",
    "\n",
    "Test your result with the `assert_equals` function. \n",
    "Do not forget to compile it first otherwise you will get a\n",
    "```python \n",
    "NameError: name 'assert_equals' is not defined\n",
    "```"
   ]
  },
  {
   "cell_type": "code",
   "execution_count": 1,
   "metadata": {},
   "outputs": [],
   "source": [
    "def assert_equals(a, b):\n",
    "    return a == b"
   ]
  },
  {
   "cell_type": "markdown",
   "metadata": {},
   "source": [
    "## Project 1 \n",
    "Have you ever felt like there was something more being said behind a paragraph, a sentence? In this project you have to find all duplicates from our sentence to uncover the real message. \n",
    "\n",
    "Your job is to write a function that will find the secret words of the message and return them in order. The words in the secret message should be ordered in the order in which they are found as a duplicate, for example:\n",
    "\n",
    "`\n",
    "'This is a test. this test is fun.' should return 'this test is'\n",
    "`\n",
    "\n",
    ". Notes\n",
    "\n",
    "The input will always be a string.\n",
    "\n",
    "The ponctuation like \".\" (point), \"!\" (exclamation mark), \"?\" (question mark), \":\" (colon) after words should be removed before the check. \n",
    "\n",
    "If a word appears more than two times in the paragraph, it should show up in the secret message only once, based on the position of the first time it was duplicated.\n",
    "\n",
    "The punctuation and casing of words (uppercase, lowercase) should not matter for the purpose of this project. We are only concerned with word duplication.\n"
   ]
  },
  {
   "cell_type": "code",
   "execution_count": 5,
   "metadata": {},
   "outputs": [
    {
     "name": "stdout",
     "output_type": "stream",
     "text": [
      "False\n"
     ]
    }
   ],
   "source": [
    "import re\n",
    "\n",
    "paragraph = \"This is a test. this test is fun.\"\n",
    "expected_result = \"this test is\"\n",
    "\n",
    "def find_secret_message(paragraph):\n",
    "    \n",
    "    assert_equals = re.compile(r\".*(.).*\\1\")\n",
    "    expected_result = assert_equals.findall(paragraph)\n",
    "\n",
    "print(assert_equals(find_secret_message(paragraph), expected_result))\n",
    "    "
   ]
  },
  {
   "cell_type": "code",
   "execution_count": null,
   "metadata": {},
   "outputs": [],
   "source": [
    "# Basic Tests\n",
    "paragraph = \"This is a test. this test is fun.\"\n",
    "expected_result = \"this test is\"\n",
    "print(assert_equals(find_secret_message(paragraph), expected_result))\n",
    "###############################################################################\n",
    "paragraph = \"There is a secret message in the first six sentences of this kata description. Have you ever felt like there was something more being said? Was it hard to figure out that unspoken meaning? Never again! Never will a secret go undiscovered. Find all duplicates from our message!\"\n",
    "expected_result = \"there was never a secret message\"\n",
    "print(assert_equals(find_secret_message(paragraph), expected_result))\n",
    "###############################################################################\n",
    "paragraph = \"think T-rex! code, T-Rex chocolate wants kills? wants T-Rex secret: sleeps chocolate talks not! good:\"\n",
    "expected_result = \"t-rex wants chocolate\"\n",
    "print(assert_equals(find_secret_message(paragraph), expected_result))\n",
    "###############################################################################\n",
    "paragraph = \"Even me as a someone who hates devil was really upset to an angel once. Even if the devil was my an bad angel once we got friend.\"\n",
    "expected_result = \"even devil was an angel once\"\n",
    "print(assert_equals(find_secret_message(paragraph), expected_result))\n",
    "###############################################################################\n",
    "paragraph = \"Christmas is not! Christmas season it is not a. a is . season It's feeling it's feeling.\"\n",
    "expected_result = \"christmas is not a season it's feeling\"\n",
    "print(assert_equals(find_secret_message(paragraph), expected_result))\n"
   ]
  },
  {
   "cell_type": "markdown",
   "metadata": {},
   "source": [
    "## Project 2 \n",
    "\n",
    "A person has a rather old digital-piano being worth 2000€. He saw a secondhand digital-piano being worth 8000€. \n",
    "\n",
    "He wants to keep his old digital-piano until he can buy the secondhand one.\n",
    "\n",
    "He know he can save 1000€ each month but the prices of his old digital-piano and of the new one decrease of 1.5 percent per month. Furthermore this percent of loss increases of 0.5 percent at the end of every two months. \n",
    "\n",
    "He find it too difficult to make all these calculations.\n",
    "\n",
    "Your task is to help him.\n",
    "\n",
    "How many months will it take him to save up enough money to buy the digital-piano he wants, and how much money will he have left over?\n",
    "\n",
    "Parameters and return of function:\n",
    "\n",
    "```python\n",
    "start_price_old (old digital-piano price): (positive int or float, guaranteed) \n",
    "start_price_new (new digital-piano price): (positive int or float, guaranteed) \n",
    "saving_per_month: (positive int or float, guaranteed) \n",
    "percent_loss_by_bonth: (int or float) \n",
    "number_month(2000, 8000, 1000, 1.5) should return [6, 766]\n",
    "```\n",
    "\n",
    "\n",
    "Detail of the above example:\n",
    "\n",
    "```python\n",
    "end month 1: percentLoss 1.5 available -4910.0\n",
    "end month 2: percentLoss 2.0 available -3791.7999...\n",
    "end month 3: percentLoss 2.0 available -2675.964\n",
    "end month 4: percentLoss 2.5 available -1534.06489...\n",
    "end month 5: percentLoss 2.5 available -395.71327...\n",
    "end month 6: percentLoss 3.0 available 766.158120825...\n",
    "\n",
    "return [6, 766]\n",
    "```\n",
    "\n",
    "where 6 is the number of months at the end of which he can buy the new used digital-piano and 766 is the nearest integer to 766.158... (rounding 766.158 gives 766).\n",
    "\n",
    "Note:\n",
    "\n",
    "Selling, buying and saving are normally done at end of month. Calculations are processed at the end of each considered month but if, by chance from the start, the value of the old digital-piano is bigger than the value of the new one or equal there is no saving to be made, no need to wait so he can at the beginning of the month buy the new used digita-piano:\n",
    "\n",
    "```python\n",
    "number_month(12000, 8000, 1000, 1.5) should return [0, 4000]\n",
    "number_month(8000, 8000, 1000, 1.5) should return [0, 0]\n",
    "```\n"
   ]
  },
  {
   "cell_type": "code",
   "execution_count": 9,
   "metadata": {},
   "outputs": [],
   "source": [
    "import math # in case it's needed\n",
    "\n",
    "def number_month(start_price_old, start_price_new, saving_per_month, percent_loss_by_month):\n",
    "    number_month = 0\n",
    "    monthly_saved_money = 0\n",
    "    while start_price_old + monthly_saved_money < start_price_new:\n",
    "        monthly_saved_money += saving_per_month\n",
    "        number_month += 1\n",
    "        if number_month % 2 == 0:\n",
    "            percent_loss_by_month += 0.5\n",
    "        start_price_old *= ((100 - percent_loss_by_month) / 100)\n",
    "        start_price_new *= ((100 - percent_loss_by_month) / 100)\n",
    "        \n",
    "    return [number_month, round(start_price_old + monthly_saved_money - start_price_new)]\n",
    "\n",
    "#The round() function returns a floating point number that is a rounded version of the specified number, with the specified number of decimals.\n",
    "\n",
    "#The default number of decimals is 0, meaning that the function will return the nearest integer."
   ]
  },
  {
   "cell_type": "code",
   "execution_count": 12,
   "metadata": {},
   "outputs": [
    {
     "data": {
      "text/plain": [
       "[9, 1047]"
      ]
     },
     "execution_count": 12,
     "metadata": {},
     "output_type": "execute_result"
    }
   ],
   "source": [
    "number_month(5320, 15320, 1000, 1.4)"
   ]
  },
  {
   "cell_type": "code",
   "execution_count": 15,
   "metadata": {},
   "outputs": [
    {
     "name": "stdout",
     "output_type": "stream",
     "text": [
      "True\n",
      "True\n",
      "True\n",
      "True\n",
      "True\n"
     ]
    }
   ],
   "source": [
    "# Basic Tests\n",
    "start_price_old = 2000\n",
    "start_price_new = 8000\n",
    "saving_per_month = 1000\n",
    "percent_loss_by_month = 1.5\n",
    "expected_result = [6, 766]\n",
    "print(assert_equals(number_month(start_price_old, start_price_new, saving_per_month, percent_loss_by_month), expected_result))\n",
    "###############################################################################\n",
    "start_price_old = 12000\n",
    "start_price_new = 8000\n",
    "saving_per_month = 1000\n",
    "percent_loss_by_month = 1.5\n",
    "expected_result = [0, 4000]\n",
    "print(assert_equals(number_month(start_price_old, start_price_new, saving_per_month, percent_loss_by_month), expected_result))\n",
    "###############################################################################\n",
    "start_price_old = 2100\n",
    "start_price_new = 2100\n",
    "saving_per_month = 1000\n",
    "percent_loss_by_month = 1.2\n",
    "expected_result = [0, 0]\n",
    "print(assert_equals(number_month(start_price_old, start_price_new, saving_per_month, percent_loss_by_month), expected_result))\n",
    "###############################################################################\n",
    "start_price_old = 7500\n",
    "start_price_new = 32000\n",
    "saving_per_month = 300\n",
    "percent_loss_by_month = 1.55\n",
    "expected_result = [25, 122]\n",
    "print(assert_equals(number_month(start_price_old, start_price_new, saving_per_month, percent_loss_by_month), expected_result))\n",
    "###############################################################################\n",
    "start_price_old = 5320\n",
    "start_price_new = 15320\n",
    "saving_per_month = 1000\n",
    "percent_loss_by_month = 1.4\n",
    "expected_result = [9, 1047]\n",
    "print(assert_equals(number_month(start_price_old, start_price_new, saving_per_month, percent_loss_by_month), expected_result))\n"
   ]
  },
  {
   "cell_type": "markdown",
   "metadata": {},
   "source": [
    "## Project 3\n",
    "A store manager has lots of products classified in 26 categories labeled A, B, ... Z. Each product has a code `c` of 3, 4, 5 or more capitals letters. The 1st letter of a code is the capital letter of the product category. In the store manager's list each code `c` is followed by a space and by a positive integer `n` (int n >= 0) which indicates the quantity of products of this code in stock.\n",
    "\n",
    "For example an extract of one of the stocklists could be:\n",
    "\n",
    "```python\n",
    "L = [\"ABART 20\", \"CDXEF 50\", \"BKWRK 25\", \"BTSQZ 89\", \"DRTYM 60\"] ` \n",
    "```\n",
    "\n",
    "You will be given a stocklist (e.g. : L) and a list of categories in capital letters e.g :\n",
    "\n",
    "```python\n",
    "M = [\"A\", \"B\", \"C\", \"W\"]\n",
    "```\n",
    "\n",
    "Your task is to find all the products of `L` with codes belonging to each category of `M` and to sum their quantity according to each category.\n",
    "\n",
    "For the lists L and M of example you have to return the string:\n",
    "\n",
    "```python\n",
    "\"(A : 20) - (B : 114) - (C : 50) - (W : 0)\"\n",
    "```\n",
    "\n",
    "where **A, B, C, W** are the categories, 20 is the sum of the unique product of category A, 114 the sum corresponding to \"BKWRK\" and \"BTSQZ\", 50 corresponding to \"CDXEF\" and 0 to category 'W' since there are no code beginning with W.\n",
    "\n",
    "If `L` or `M` are empty return string is \n",
    "\n",
    "```python\n",
    "\"\"\n",
    "```\n",
    "Note:\n",
    "In the result codes and their values are in the same order as in M."
   ]
  },
  {
   "cell_type": "code",
   "execution_count": 18,
   "metadata": {},
   "outputs": [],
   "source": [
    "def stock_list(list_of_prod, list_of_cat):\n",
    "    if len(list_of_cat) == 0 or len(list_of_prod) == 0:\n",
    "        return \"\"\n",
    "    answer = \"\"\n",
    "    for letter in list_of_cat:\n",
    "        summe = 0\n",
    "        for product in list_of_prod:\n",
    "            if product[0] == letter[0]:\n",
    "                summe += int(product.split(\" \")[1])\n",
    "        if len(answer) != 0:\n",
    "            answer += \" - \"\n",
    "        answer += \"(\" + str(letter) + \" : \" + str(summe) + \")\" \n",
    "    return answer "
   ]
  },
  {
   "cell_type": "code",
   "execution_count": 13,
   "metadata": {},
   "outputs": [
    {
     "name": "stdout",
     "output_type": "stream",
     "text": [
      "True\n",
      "True\n",
      "True\n",
      "True\n",
      "True\n",
      "True\n",
      "True\n"
     ]
    }
   ],
   "source": [
    "# Basic Tests\n",
    "list_of_prod = [\"ABAR 200\", \"CDXE 500\", \"BKWR 250\", \"BTSQ 890\", \"DRTY 600\"]\n",
    "list_of_cat = [\"A\", \"B\"]\n",
    "expected_result = \"(A : 200) - (B : 1140)\"\n",
    "print(assert_equals(stock_list(list_of_prod, list_of_cat), expected_result))\n",
    "###############################################################################\n",
    "list_of_prod = ['BBAR 150', 'CDXE 515', 'BKWR 250', 'BTSQ 890', 'DRTY 600']\n",
    "list_of_cat = ['A', 'B', 'C', 'D']\n",
    "expected_result = \"(A : 0) - (B : 1290) - (C : 515) - (D : 600)\"\n",
    "print(assert_equals(stock_list(list_of_prod, list_of_cat), expected_result))\n",
    "###############################################################################\n",
    "list_of_prod = ['ABAR 200', 'CDXE 500', 'BKWR 250', 'BTSQ 890', 'DRTY 600']\n",
    "list_of_cat = ['A', 'B']\n",
    "expected_result = \"(A : 200) - (B : 1140)\"\n",
    "print(assert_equals(stock_list(list_of_prod, list_of_cat), expected_result))\n",
    "###############################################################################\n",
    "list_of_prod = ['CBART 20', 'CDXEF 50', 'BKWRK 25', 'BTSQZ 89', 'DRTYM 60']\n",
    "list_of_cat = ['A', 'B', 'C', 'W']\n",
    "expected_result = \"(A : 0) - (B : 114) - (C : 70) - (W : 0)\"\n",
    "print(assert_equals(stock_list(list_of_prod, list_of_cat), expected_result))\n",
    "###############################################################################\n",
    "list_of_prod = []\n",
    "list_of_cat = ['B', 'R', 'D', 'X']\n",
    "expected_result = \"\"\n",
    "print(assert_equals(stock_list(list_of_prod, list_of_cat), expected_result))\n",
    "###############################################################################\n",
    "list_of_prod = ['ROXANNE 102', 'RHODODE 123', 'BKWRKAA 125', 'BTSQZFG 239', 'DRTYMKH 060']\n",
    "list_of_cat = []\n",
    "expected_result = \"\"\n",
    "print(assert_equals(stock_list(list_of_prod, list_of_cat), expected_result))\n",
    "###############################################################################\n",
    "list_of_prod = ['ROXANNE 102', 'RHODODE 123', 'BKWRKAA 125', 'BTSQZFG 239', 'DRTYMKH 060']\n",
    "list_of_cat = ['U', 'V', 'R']\n",
    "expected_result = \"(U : 0) - (V : 0) - (R : 225)\"\n",
    "print(assert_equals(stock_list(list_of_prod, list_of_cat), expected_result))\n"
   ]
  }
 ],
 "metadata": {
  "kernelspec": {
   "display_name": "Python 3",
   "language": "python",
   "name": "python3"
  },
  "language_info": {
   "codemirror_mode": {
    "name": "ipython",
    "version": 3
   },
   "file_extension": ".py",
   "mimetype": "text/x-python",
   "name": "python",
   "nbconvert_exporter": "python",
   "pygments_lexer": "ipython3",
   "version": "3.8.3"
  }
 },
 "nbformat": 4,
 "nbformat_minor": 4
}
