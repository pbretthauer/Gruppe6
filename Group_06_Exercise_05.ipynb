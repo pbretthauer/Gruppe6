{
 "cells": [
  {
   "cell_type": "markdown",
   "metadata": {},
   "source": [
    "# Exercice 1:\n",
    "Given two integers a and b, which can be positive or negative, find the sum of all the numbers between including them too and return it. If the two numbers are equal return a or b.\n",
    "\n",
    "Note: a and b are not ordered!\n",
    "\n",
    "Examples\n",
    "\n",
    "`\n",
    "get_sum(1, 0) == 1   // 1 + 0 = 1\n",
    "get_sum(1, 2) == 3   // 1 + 2 = 3\n",
    "get_sum(0, 1) == 1   // 0 + 1 = 1\n",
    "get_sum(1, 1) == 1   // 1 Since both are same\n",
    "get_sum(-1, 0) == -1 // -1 + 0 = -1\n",
    "get_sum(-1, 2) == 2  // -1 + 0 + 1 + 2 = 2\n",
    "`"
   ]
  },
  {
   "cell_type": "code",
   "execution_count": 25,
   "metadata": {},
   "outputs": [
    {
     "data": {
      "text/plain": [
       "3"
      ]
     },
     "execution_count": 25,
     "metadata": {},
     "output_type": "execute_result"
    }
   ],
   "source": [
    "def get_sum(num1, num2):\n",
    "    # your code here \n",
    "    if num1 == num2:\n",
    "        pass\n",
    "        return num1\n",
    "    #elif num2-num1 ==1:\n",
    "        #return num1+num2\n",
    "    else:\n",
    "        sum = 0\n",
    "        for i in range(num1,num2+1):\n",
    "            sum += i\n",
    "        return sum\n",
    "get_sum(1,2)\n"
   ]
  },
  {
   "cell_type": "markdown",
   "metadata": {},
   "source": [
    "# Exercice 2: \n",
    "\n",
    "**Task**\n",
    "\n",
    "Each day a plant is growing by upSpeed meters. Each night that plant's height decreases by downSpeed meters due to the lack of sun heat. Initially, plant is 0 meters tall. We plant the seed at the beginning of a day. We want to know when the height of the plant will reach a certain level.\n",
    "\n",
    "__Example__\n",
    "\n",
    "**For upSpeed = 100, downSpeed = 10 and desiredHeight = 910, the output should be 10.**\n",
    "\n",
    "`\n",
    " After day 1 --> 100\n",
    " After night 1 --> 90\n",
    " After day 2 --> 190\n",
    " After night 2 --> 180\n",
    " After day 3 --> 280\n",
    " After night 3 --> 270\n",
    " After day 4 --> 370\n",
    " After night 4 --> 360\n",
    " After day 5 --> 460\n",
    " After night 5 --> 450\n",
    " After day 6 --> 550\n",
    " After night 6 --> 540\n",
    " After day 7 --> 640\n",
    " After night 7 --> 630\n",
    " After day 8 --> 730\n",
    " After night 8 --> 720\n",
    " After day 9 --> 820\n",
    " After night 9 --> 810\n",
    " After day 10 --> 910 \n",
    "`\n",
    "\n",
    "**For upSpeed = 10, downSpeed = 9 and desiredHeight = 4, the output should be 1.**\n",
    "\n",
    "**Because the plant reach to the desired height at day 1(10 meters).**\n",
    "\n",
    "`\n",
    " After day 1 --> 10\n",
    "`\n",
    "\n",
    "\n",
    "Input/Output\n",
    "\n",
    "[input] integer upSpeed\n",
    "\n",
    "A positive integer representing the daily growth.\n",
    "\n",
    "Constraints: 5 ≤ upSpeed ≤ 100.\n",
    "\n",
    "[input] integer downSpeed\n",
    "\n",
    "A positive integer representing the nightly decline.\n",
    "\n",
    "Constraints: 2 ≤ downSpeed < upSpeed.\n",
    "\n",
    "[input] integer desiredHeight\n",
    "\n",
    "A positive integer representing the threshold.\n",
    "\n",
    "Constraints: 4 ≤ desiredHeight ≤ 1000.\n",
    "\n",
    "[output] an integer\n",
    "\n",
    "The number of days that it will take for the plant to reach/pass desiredHeight (including the last day in the total count)."
   ]
  },
  {
   "cell_type": "code",
   "execution_count": 1,
   "metadata": {},
   "outputs": [
    {
     "name": "stdout",
     "output_type": "stream",
     "text": [
      "4\n"
     ]
    },
    {
     "data": {
      "text/plain": [
       "4"
      ]
     },
     "execution_count": 1,
     "metadata": {},
     "output_type": "execute_result"
    }
   ],
   "source": [
    "def growing_plant(upSpeed, downSpeed, desiredHeight):\n",
    "    height_night = 0\n",
    "    height_day = 0\n",
    "    actual_height = 0\n",
    "    days = 0\n",
    "    \n",
    "    if upSpeed - downSpeed > desiredHeight:\n",
    "        return 1\n",
    "        \n",
    "    while height_day < desiredHeight:\n",
    "        height_day = height_night + upSpeed \n",
    "        height_night = height_day - downSpeed\n",
    "        days += 1\n",
    "    print(days)\n",
    "    return days\n",
    "    \n",
    "growing_plant(10,2,30)"
   ]
  },
  {
   "cell_type": "code",
   "execution_count": null,
   "metadata": {},
   "outputs": [],
   "source": [
    "print(growing_plant(10,2,30))\n",
    "print(growing_plant(10,9,4))\n",
    "print(growing_plant(100,10,910))"
   ]
  },
  {
   "cell_type": "markdown",
   "metadata": {},
   "source": [
    "# Exercice 3: (Use map)\n",
    "Given the current exchange rate between the USD and the EUR is 1.1363636 write a function that will accept the Curency type to be returned and a list of the amounts that need to be converted.\n",
    "\n",
    "\n",
    "Don't forget this is a currency so the result will need to be rounded to the second decimal.\n",
    "\n",
    "```python\n",
    "'USD' Return format should be '$100,000.00'\n",
    "\n",
    "'EUR' Return format for this should be '100,000.00€'\n",
    "\n",
    "```\n",
    "\n",
    "to_currency is a string with values 'USD','EUR' , values_list is a list of floats\n",
    "\n",
    "solution(to_currency,values)\n",
    "\n",
    "#EXAMPLES:\n",
    "```python\n",
    "solution('USD',[1394.0, 250.85, 721.3, 911.25, 1170.67]) \n",
    "= ['$1,584.09', '$285.06', '$819.66', '$1,035.51', '$1,330.31']\n",
    "\n",
    "solution('EUR',[109.45, 640.31, 1310.99, 669.51, 415.54]) \n",
    "= ['96.32€', '563.47€', '1,153.67€', '589.17€', '365.68€']\n",
    "```\n"
   ]
  },
  {
   "cell_type": "code",
   "execution_count": 2,
   "metadata": {
    "scrolled": true
   },
   "outputs": [
    {
     "data": {
      "text/plain": [
       "['96.32€', '563.47€', '1,153.67€', '589.17€', '365.68€']"
      ]
     },
     "execution_count": 2,
     "metadata": {},
     "output_type": "execute_result"
    }
   ],
   "source": [
    "def convert_to_eur(value):\n",
    "    resp = round(value/1.1363636,2)\n",
    "    return \"{:,.2f}€\".format(resp)\n",
    "\n",
    "def convert_to_usd(value):\n",
    "    resp = round(value*1.1363636,2)\n",
    "    return \"${:,.2f}\".format(resp)\n",
    "\n",
    "def solution(to_cur,value):\n",
    "    result = []\n",
    "    if to_cur == \"USD\":\n",
    "        result = list(map(convert_to_usd, value))\n",
    "    else:\n",
    "        result = list(map(convert_to_eur, value))\n",
    "    return result\n",
    "          \n",
    "solution('EUR',[109.45, 640.31, 1310.99, 669.51, 415.54]) "
   ]
  },
  {
   "cell_type": "markdown",
   "metadata": {},
   "source": [
    "# Exercice 4\n",
    "Create a function that takes in the sum and age difference of two people, calculates their individual ages, and returns a pair of values (oldest age first) if those exist or null/None if:\n",
    "`\n",
    "sum < 0\n",
    "difference < 0\n",
    "`\n",
    "\n",
    "`\n",
    "get_ages(24, 4) should return (14, 10)\n",
    "get_ages(63, -14) should return None\n",
    "`\n",
    "\n",
    "Either of the calculated ages come out to be negative"
   ]
  },
  {
   "cell_type": "code",
   "execution_count": 4,
   "metadata": {},
   "outputs": [
    {
     "data": {
      "text/plain": [
       "(14, 10)"
      ]
     },
     "execution_count": 4,
     "metadata": {},
     "output_type": "execute_result"
    }
   ],
   "source": [
    "def get_ages(summe, difference):\n",
    "    if summe < 0 or difference < 0:\n",
    "        return None\n",
    "    else: \n",
    "        y = int((summe - difference) / 2)\n",
    "        x = int(summe - y)\n",
    "        if x >= 0 and y >= 0:\n",
    "            return x, y\n",
    "        \n",
    "get_ages(24, 4)"
   ]
  }
 ],
 "metadata": {
  "kernelspec": {
   "display_name": "Python 3",
   "language": "python",
   "name": "python3"
  },
  "language_info": {
   "codemirror_mode": {
    "name": "ipython",
    "version": 3
   },
   "file_extension": ".py",
   "mimetype": "text/x-python",
   "name": "python",
   "nbconvert_exporter": "python",
   "pygments_lexer": "ipython3",
   "version": "3.7.4"
  }
 },
 "nbformat": 4,
 "nbformat_minor": 4
}
